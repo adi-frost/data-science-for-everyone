{
 "cells": [
  {
   "cell_type": "markdown",
   "id": "aeef7d4f-38e5-42f8-bcf2-61c94e811525",
   "metadata": {},
   "source": [
    "## Spark DataFrame Basics\n",
    "\n",
    "Spark DataFrames allow for easy handling of large datasets.\n",
    "\n",
    "* Easy syntax\n",
    "* Ability to use SQL directly in the dataframe\n",
    "* Operations are automatically distributed across RDDs"
   ]
  },
  {
   "cell_type": "markdown",
   "id": "e06d3736-2a87-427f-8240-41ed8c29a253",
   "metadata": {},
   "source": [
    "### Create a DataFrame"
   ]
  },
  {
   "cell_type": "code",
   "execution_count": 3,
   "id": "3b2609fd-3780-4798-9d7e-721ac01a1ee6",
   "metadata": {},
   "outputs": [],
   "source": [
    "from pyspark.sql import SparkSession"
   ]
  },
  {
   "cell_type": "code",
   "execution_count": 4,
   "id": "966dae54-6c3b-4ef7-8392-b49b554b48fa",
   "metadata": {},
   "outputs": [
    {
     "name": "stderr",
     "output_type": "stream",
     "text": [
      "25/04/30 08:57:01 WARN Utils: Your hostname, aditya-HP-Laptop-15s-eq1xxx resolves to a loopback address: 127.0.1.1; using 10.103.4.19 instead (on interface wlo1)\n",
      "25/04/30 08:57:01 WARN Utils: Set SPARK_LOCAL_IP if you need to bind to another address\n",
      "Setting default log level to \"WARN\".\n",
      "To adjust logging level use sc.setLogLevel(newLevel). For SparkR, use setLogLevel(newLevel).\n",
      "25/04/30 08:57:02 WARN NativeCodeLoader: Unable to load native-hadoop library for your platform... using builtin-java classes where applicable\n",
      "25/04/30 08:57:19 WARN GarbageCollectionMetrics: To enable non-built-in garbage collector(s) List(G1 Concurrent GC), users should configure it(them) to spark.eventLog.gcMetrics.youngGenerationGarbageCollectors or spark.eventLog.gcMetrics.oldGenerationGarbageCollectors\n"
     ]
    }
   ],
   "source": [
    "spark = SparkSession.builder.appName(\"pyspark_basics\").getOrCreate()"
   ]
  },
  {
   "cell_type": "code",
   "execution_count": 5,
   "id": "fb20120f-8bd8-4c07-8cb6-ee8bf0c28e56",
   "metadata": {},
   "outputs": [
    {
     "name": "stdout",
     "output_type": "stream",
     "text": [
      "Writing user_simple.json\n"
     ]
    }
   ],
   "source": [
    "%%writefile user_simple.json\n",
    "{\"name\":\"Bob\"}\n",
    "{\"name\":\"Jim\", \"age\":40}\n",
    "{\"name\":\"Mary\", \"age\": 24}"
   ]
  },
  {
   "cell_type": "code",
   "execution_count": 7,
   "id": "eb627594-c171-4586-8002-6beda3b3e83f",
   "metadata": {},
   "outputs": [
    {
     "name": "stdout",
     "output_type": "stream",
     "text": [
      "+----+----+\n",
      "| age|name|\n",
      "+----+----+\n",
      "|NULL| Bob|\n",
      "|  40| Jim|\n",
      "|  24|Mary|\n",
      "+----+----+\n",
      "\n"
     ]
    }
   ],
   "source": [
    "df = spark.read.json(\"user_simple.json\")\n",
    "df.show()"
   ]
  },
  {
   "cell_type": "code",
   "execution_count": 8,
   "id": "d8749ad9-7410-47e9-ae61-724f22bff0ad",
   "metadata": {},
   "outputs": [
    {
     "name": "stdout",
     "output_type": "stream",
     "text": [
      "root\n",
      " |-- age: long (nullable = true)\n",
      " |-- name: string (nullable = true)\n",
      "\n"
     ]
    }
   ],
   "source": [
    "df.printSchema()"
   ]
  },
  {
   "cell_type": "code",
   "execution_count": 9,
   "id": "bac0b5db-7eec-4a79-bfaf-c3715f3f994f",
   "metadata": {},
   "outputs": [
    {
     "data": {
      "text/plain": [
       "['age', 'name']"
      ]
     },
     "execution_count": 9,
     "metadata": {},
     "output_type": "execute_result"
    }
   ],
   "source": [
    "df.columns"
   ]
  },
  {
   "cell_type": "code",
   "execution_count": 10,
   "id": "e620e148-9e68-4686-ae96-b1a64fb83717",
   "metadata": {},
   "outputs": [
    {
     "data": {
      "text/plain": [
       "DataFrame[summary: string, age: string, name: string]"
      ]
     },
     "execution_count": 10,
     "metadata": {},
     "output_type": "execute_result"
    }
   ],
   "source": [
    "df.describe()"
   ]
  },
  {
   "cell_type": "markdown",
   "id": "1248c5cc-5b48-4a8c-bd72-da9cea30f4f5",
   "metadata": {},
   "source": [
    "### Specifying Schema Structure\n",
    " * Some data types make it easier to infer schema\n",
    " * Often have to set the schema yourself\n",
    " * Spark has tools to help specify the structure\n",
    "\n",
    "Next we need to create the list of Structure fields\n",
    "\n",
    " * :param name: string, name of the field.\n",
    " * :param dataType: class **DataType** of the field\n",
    " * :param nullable: boolean, whether the field can be null (None)"
   ]
  },
  {
   "cell_type": "code",
   "execution_count": 11,
   "id": "9afd5486-6b3e-4f9b-bc99-59b6d7160d04",
   "metadata": {},
   "outputs": [],
   "source": [
    "from pyspark.sql.types import StructField, StringType, IntegerType, StructType"
   ]
  },
  {
   "cell_type": "code",
   "execution_count": 12,
   "id": "d4f5ebda-f0a8-48c3-bc1a-cabbbe9cb5f4",
   "metadata": {},
   "outputs": [],
   "source": [
    "data_schema = [StructField(\"age\", IntegerType(), True), StructField(\"name\", StringType(), True)]"
   ]
  },
  {
   "cell_type": "code",
   "execution_count": 13,
   "id": "87d9d8be-3a55-4ab4-9266-db1da5f5b706",
   "metadata": {},
   "outputs": [],
   "source": [
    "final_struc = StructType(fields=data_schema)"
   ]
  },
  {
   "cell_type": "code",
   "execution_count": 14,
   "id": "8216c7e8-0f27-45a1-884e-7745af81cefd",
   "metadata": {},
   "outputs": [],
   "source": [
    "df = spark.read.json(\"user_simple.json\", schema=final_struc)"
   ]
  },
  {
   "cell_type": "code",
   "execution_count": 15,
   "id": "746d8aeb-2ff6-4375-9443-802c0d72d2ca",
   "metadata": {},
   "outputs": [
    {
     "name": "stdout",
     "output_type": "stream",
     "text": [
      "root\n",
      " |-- age: integer (nullable = true)\n",
      " |-- name: string (nullable = true)\n",
      "\n"
     ]
    }
   ],
   "source": [
    "df.printSchema()"
   ]
  },
  {
   "cell_type": "markdown",
   "id": "b8c39e89-5c38-4a4a-abc0-fb54e63b353a",
   "metadata": {},
   "source": [
    "### Grab Data"
   ]
  },
  {
   "cell_type": "code",
   "execution_count": 16,
   "id": "36fa6703-16f9-4b9b-b279-c1a4a4db8504",
   "metadata": {},
   "outputs": [
    {
     "data": {
      "text/plain": [
       "Column<'age'>"
      ]
     },
     "execution_count": 16,
     "metadata": {},
     "output_type": "execute_result"
    }
   ],
   "source": [
    "df['age']"
   ]
  },
  {
   "cell_type": "code",
   "execution_count": 18,
   "id": "967acf01-015c-4f50-83fb-8b84cfbce974",
   "metadata": {},
   "outputs": [
    {
     "data": {
      "text/plain": [
       "pyspark.sql.column.Column"
      ]
     },
     "execution_count": 18,
     "metadata": {},
     "output_type": "execute_result"
    }
   ],
   "source": [
    "type(df['age'])"
   ]
  },
  {
   "cell_type": "code",
   "execution_count": 19,
   "id": "e5fbeaee-1f4b-43b4-800a-572672627fd0",
   "metadata": {},
   "outputs": [
    {
     "data": {
      "text/plain": [
       "DataFrame[age: int]"
      ]
     },
     "execution_count": 19,
     "metadata": {},
     "output_type": "execute_result"
    }
   ],
   "source": [
    "df.select(\"age\")"
   ]
  },
  {
   "cell_type": "code",
   "execution_count": 20,
   "id": "29cc8d28-207d-448c-adcb-6eeef0da2933",
   "metadata": {},
   "outputs": [
    {
     "data": {
      "text/plain": [
       "pyspark.sql.dataframe.DataFrame"
      ]
     },
     "execution_count": 20,
     "metadata": {},
     "output_type": "execute_result"
    }
   ],
   "source": [
    "type(df.select(\"age\"))"
   ]
  },
  {
   "cell_type": "code",
   "execution_count": 21,
   "id": "0c987e4f-12a6-45ad-85c7-88e23872e179",
   "metadata": {},
   "outputs": [
    {
     "name": "stdout",
     "output_type": "stream",
     "text": [
      "+----+\n",
      "| age|\n",
      "+----+\n",
      "|NULL|\n",
      "|  40|\n",
      "|  24|\n",
      "+----+\n",
      "\n"
     ]
    }
   ],
   "source": [
    "df.select(\"age\").show()"
   ]
  },
  {
   "cell_type": "code",
   "execution_count": 22,
   "id": "d94ca04b-3865-48e0-8290-c54b74fcb979",
   "metadata": {},
   "outputs": [
    {
     "data": {
      "text/plain": [
       "[Row(age=None, name='Bob'), Row(age=40, name='Jim')]"
      ]
     },
     "execution_count": 22,
     "metadata": {},
     "output_type": "execute_result"
    }
   ],
   "source": [
    "df.head(2)"
   ]
  },
  {
   "cell_type": "code",
   "execution_count": 24,
   "id": "5af0896f-9de7-443b-b153-139398557435",
   "metadata": {},
   "outputs": [],
   "source": [
    "# df.head(2).show() # gives error"
   ]
  },
  {
   "cell_type": "code",
   "execution_count": 26,
   "id": "e6c983fe-674a-442c-901a-be5587fa89ed",
   "metadata": {},
   "outputs": [
    {
     "name": "stdout",
     "output_type": "stream",
     "text": [
      "+----+----+\n",
      "|name| age|\n",
      "+----+----+\n",
      "| Bob|NULL|\n",
      "| Jim|  40|\n",
      "+----+----+\n",
      "only showing top 2 rows\n",
      "\n"
     ]
    }
   ],
   "source": [
    "df.select([\"name\", \"age\"]).show(2)"
   ]
  },
  {
   "cell_type": "markdown",
   "id": "d4c4d052-349f-4f1a-a90a-3544713f33ae",
   "metadata": {},
   "source": [
    "### Create New Columns"
   ]
  },
  {
   "cell_type": "code",
   "execution_count": 27,
   "id": "92837857-e646-4a55-945a-f89b2786a453",
   "metadata": {},
   "outputs": [
    {
     "name": "stdout",
     "output_type": "stream",
     "text": [
      "+----+----+------+\n",
      "| age|name|newAge|\n",
      "+----+----+------+\n",
      "|NULL| Bob|  NULL|\n",
      "|  40| Jim|    40|\n",
      "|  24|Mary|    24|\n",
      "+----+----+------+\n",
      "\n"
     ]
    }
   ],
   "source": [
    "df.withColumn('newAge', df['age']).show()"
   ]
  },
  {
   "cell_type": "code",
   "execution_count": 29,
   "id": "8e6c81a6-36a3-40dc-8d9b-1e16e56ce988",
   "metadata": {},
   "outputs": [
    {
     "name": "stdout",
     "output_type": "stream",
     "text": [
      "+----+---------+\n",
      "| age|firstName|\n",
      "+----+---------+\n",
      "|NULL|      Bob|\n",
      "|  40|      Jim|\n",
      "|  24|     Mary|\n",
      "+----+---------+\n",
      "\n"
     ]
    }
   ],
   "source": [
    "df.withColumnRenamed(\"name\", \"firstName\").show()"
   ]
  },
  {
   "cell_type": "code",
   "execution_count": 30,
   "id": "040c362f-8dfe-4039-8f9d-bbbbd78a2559",
   "metadata": {},
   "outputs": [
    {
     "name": "stdout",
     "output_type": "stream",
     "text": [
      "+----+----+\n",
      "| age|name|\n",
      "+----+----+\n",
      "|NULL| Bob|\n",
      "|  40| Jim|\n",
      "|  24|Mary|\n",
      "+----+----+\n",
      "\n"
     ]
    }
   ],
   "source": [
    "df.show()"
   ]
  },
  {
   "cell_type": "code",
   "execution_count": 31,
   "id": "8bca14ba-029a-486f-8183-31de2e872a11",
   "metadata": {},
   "outputs": [
    {
     "name": "stdout",
     "output_type": "stream",
     "text": [
      "+----+----+----------+\n",
      "| age|name|agePlusTen|\n",
      "+----+----+----------+\n",
      "|NULL| Bob|      NULL|\n",
      "|  40| Jim|        50|\n",
      "|  24|Mary|        34|\n",
      "+----+----+----------+\n",
      "\n"
     ]
    }
   ],
   "source": [
    "df.withColumn(\"agePlusTen\", df[\"age\"]+10).show()"
   ]
  },
  {
   "cell_type": "code",
   "execution_count": 34,
   "id": "fe7a80d4-d056-4fde-8433-1d6f1e23c60d",
   "metadata": {},
   "outputs": [
    {
     "name": "stdout",
     "output_type": "stream",
     "text": [
      "+----+----+--------------+\n",
      "| age|name|age_minus_five|\n",
      "+----+----+--------------+\n",
      "|NULL| Bob|          NULL|\n",
      "|  40| Jim|            35|\n",
      "|  24|Mary|            19|\n",
      "+----+----+--------------+\n",
      "\n"
     ]
    }
   ],
   "source": [
    "df.withColumn(\"age_minus_five\", df[\"age\"]-5).show()"
   ]
  },
  {
   "cell_type": "markdown",
   "id": "912682bb-98e5-4000-8ef0-46971fd6874a",
   "metadata": {},
   "source": [
    "### Using SQL"
   ]
  },
  {
   "cell_type": "code",
   "execution_count": 35,
   "id": "9a439c12-3d4c-439a-9be2-30876e5ec114",
   "metadata": {},
   "outputs": [],
   "source": [
    "df.createOrReplaceTempView(\"customers\")"
   ]
  },
  {
   "cell_type": "code",
   "execution_count": 36,
   "id": "5880e3f3-03b0-414b-9c01-a22547a052ad",
   "metadata": {},
   "outputs": [
    {
     "data": {
      "text/plain": [
       "DataFrame[age: int, name: string]"
      ]
     },
     "execution_count": 36,
     "metadata": {},
     "output_type": "execute_result"
    }
   ],
   "source": [
    "sql_results = spark.sql(\"SELECT * FROM customers\")\n",
    "sql_results"
   ]
  },
  {
   "cell_type": "code",
   "execution_count": 37,
   "id": "69ba7160-6c01-4e3a-ba4b-8c23cdf07f42",
   "metadata": {},
   "outputs": [
    {
     "name": "stdout",
     "output_type": "stream",
     "text": [
      "+----+----+\n",
      "| age|name|\n",
      "+----+----+\n",
      "|NULL| Bob|\n",
      "|  40| Jim|\n",
      "|  24|Mary|\n",
      "+----+----+\n",
      "\n"
     ]
    }
   ],
   "source": [
    "sql_results.show()"
   ]
  },
  {
   "cell_type": "code",
   "execution_count": 40,
   "id": "b56ce979-5a05-48b9-a32c-8280b92ab759",
   "metadata": {},
   "outputs": [
    {
     "name": "stdout",
     "output_type": "stream",
     "text": [
      "+---+----+\n",
      "|age|name|\n",
      "+---+----+\n",
      "| 24|Mary|\n",
      "+---+----+\n",
      "\n"
     ]
    }
   ],
   "source": [
    "spark.sql(\"SELECT * FROM customers WHERE age<25\").show()"
   ]
  },
  {
   "cell_type": "code",
   "execution_count": null,
   "id": "6d48a99c-a7a8-4013-b6b2-47e2e454245d",
   "metadata": {},
   "outputs": [],
   "source": []
  }
 ],
 "metadata": {
  "kernelspec": {
   "display_name": "Python 3 (ipykernel)",
   "language": "python",
   "name": "python3"
  },
  "language_info": {
   "codemirror_mode": {
    "name": "ipython",
    "version": 3
   },
   "file_extension": ".py",
   "mimetype": "text/x-python",
   "name": "python",
   "nbconvert_exporter": "python",
   "pygments_lexer": "ipython3",
   "version": "3.10.16"
  }
 },
 "nbformat": 4,
 "nbformat_minor": 5
}
