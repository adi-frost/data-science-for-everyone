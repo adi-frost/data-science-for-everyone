{
 "cells": [
  {
   "cell_type": "markdown",
   "id": "b9d0a3aa-3139-4615-94e5-c0114e534f02",
   "metadata": {},
   "source": [
    "## Linear Regression with PySpark - Part 2"
   ]
  },
  {
   "cell_type": "code",
   "execution_count": 1,
   "id": "e1124528-489b-4c7e-8264-84e68de09243",
   "metadata": {},
   "outputs": [],
   "source": [
    "from pyspark.sql import SparkSession"
   ]
  },
  {
   "cell_type": "code",
   "execution_count": 2,
   "id": "20800641-e9d7-408d-a9ab-756048ccbca3",
   "metadata": {},
   "outputs": [
    {
     "name": "stderr",
     "output_type": "stream",
     "text": [
      "25/07/14 09:01:06 WARN Utils: Your hostname, aditya-HP-Laptop-15s-eq1xxx resolves to a loopback address: 127.0.1.1; using 10.200.82.42 instead (on interface wlo1)\n",
      "25/07/14 09:01:06 WARN Utils: Set SPARK_LOCAL_IP if you need to bind to another address\n",
      "Setting default log level to \"WARN\".\n",
      "To adjust logging level use sc.setLogLevel(newLevel). For SparkR, use setLogLevel(newLevel).\n",
      "25/07/14 09:01:07 WARN NativeCodeLoader: Unable to load native-hadoop library for your platform... using builtin-java classes where applicable\n",
      "25/07/14 09:01:09 WARN Utils: Service 'SparkUI' could not bind on port 4040. Attempting port 4041.\n",
      "25/07/14 09:01:22 WARN GarbageCollectionMetrics: To enable non-built-in garbage collector(s) List(G1 Concurrent GC), users should configure it(them) to spark.eventLog.gcMetrics.youngGenerationGarbageCollectors or spark.eventLog.gcMetrics.oldGenerationGarbageCollectors\n"
     ]
    }
   ],
   "source": [
    "spark = SparkSession.builder.appName(\"lin_reg\").getOrCreate()"
   ]
  },
  {
   "cell_type": "code",
   "execution_count": 4,
   "id": "117db6b2-ffb4-4954-bb3a-18f35762ee47",
   "metadata": {},
   "outputs": [],
   "source": [
    "df = spark.read.csv(\"ecommerce.csv\", inferSchema=True, header=True)"
   ]
  },
  {
   "cell_type": "code",
   "execution_count": 5,
   "id": "b56f19c2-2c6f-4fa7-80ae-b6a7f684db59",
   "metadata": {},
   "outputs": [
    {
     "name": "stdout",
     "output_type": "stream",
     "text": [
      "root\n",
      " |-- Email: string (nullable = true)\n",
      " |-- Address: string (nullable = true)\n",
      " |-- Avatar: string (nullable = true)\n",
      " |-- Avg Session Length: double (nullable = true)\n",
      " |-- Time on App: double (nullable = true)\n",
      " |-- Time on Website: double (nullable = true)\n",
      " |-- Length of Membership: double (nullable = true)\n",
      " |-- Yearly Amount Spent: double (nullable = true)\n",
      "\n"
     ]
    }
   ],
   "source": [
    "df.printSchema()"
   ]
  },
  {
   "cell_type": "code",
   "execution_count": 6,
   "id": "028cf6cb-5e5a-4bc2-bd68-4c65bfc7017b",
   "metadata": {},
   "outputs": [
    {
     "data": {
      "text/plain": [
       "Row(Email='mstephenson@fernandez.com', Address='835 Frank TunnelWrightmouth, MI 82180-9605', Avatar='Violet', Avg Session Length=34.49726772511229, Time on App=12.65565114916675, Time on Website=39.57766801952616, Length of Membership=4.0826206329529615, Yearly Amount Spent=587.9510539684005)"
      ]
     },
     "execution_count": 6,
     "metadata": {},
     "output_type": "execute_result"
    }
   ],
   "source": [
    "df.head()"
   ]
  },
  {
   "cell_type": "markdown",
   "id": "dc44f4a1-e9ea-45b4-9af4-511609529a01",
   "metadata": {},
   "source": [
    "### Setup DataFrame for ML"
   ]
  },
  {
   "cell_type": "code",
   "execution_count": 7,
   "id": "bac16ee8-ee22-4a8b-b55e-4b1086446582",
   "metadata": {},
   "outputs": [],
   "source": [
    "from pyspark.ml.linalg import Vectors\n",
    "from pyspark.ml.feature import VectorAssembler"
   ]
  },
  {
   "cell_type": "code",
   "execution_count": 8,
   "id": "f578b1dd-1a9c-44f2-a581-224cf7593c09",
   "metadata": {},
   "outputs": [
    {
     "data": {
      "text/plain": [
       "['Email',\n",
       " 'Address',\n",
       " 'Avatar',\n",
       " 'Avg Session Length',\n",
       " 'Time on App',\n",
       " 'Time on Website',\n",
       " 'Length of Membership',\n",
       " 'Yearly Amount Spent']"
      ]
     },
     "execution_count": 8,
     "metadata": {},
     "output_type": "execute_result"
    }
   ],
   "source": [
    "df.columns"
   ]
  },
  {
   "cell_type": "code",
   "execution_count": 23,
   "id": "c22a5ae9-8682-452a-b8e5-fa10c74d0800",
   "metadata": {},
   "outputs": [],
   "source": [
    "coef_var = ['Avg Session Length', 'Time on App', 'Length of Membership']\n",
    "assembler = VectorAssembler(inputCols=['Avg Session Length', 'Time on App', 'Length of Membership'], \n",
    "                           outputCol='features')"
   ]
  },
  {
   "cell_type": "code",
   "execution_count": 24,
   "id": "f85eaf15-b344-4943-af7f-cbf45a3b4d2c",
   "metadata": {},
   "outputs": [],
   "source": [
    "output = assembler.transform(df)"
   ]
  },
  {
   "cell_type": "code",
   "execution_count": 25,
   "id": "a5a26112-ff98-4572-a95a-13c67b8b037f",
   "metadata": {},
   "outputs": [
    {
     "name": "stdout",
     "output_type": "stream",
     "text": [
      "+--------------------+-------------------+\n",
      "|            features|Yearly Amount Spent|\n",
      "+--------------------+-------------------+\n",
      "|[34.4972677251122...|  587.9510539684005|\n",
      "|[31.9262720263601...|  392.2049334443264|\n",
      "|[33.0009147556426...| 487.54750486747207|\n",
      "|[34.3055566297555...|  581.8523440352177|\n",
      "|[33.3306725236463...|  599.4060920457634|\n",
      "|[33.8710378793419...|   637.102447915074|\n",
      "|[32.0215955013870...|  521.5721747578274|\n",
      "|[32.7391429383803...|  549.9041461052942|\n",
      "|[33.9877728956856...|  570.2004089636196|\n",
      "|[31.9365486184489...|  427.1993848953282|\n",
      "|[33.9925727749537...|  492.6060127179966|\n",
      "|[33.8793608248049...|  522.3374046069357|\n",
      "|[29.5324289670579...|  408.6403510726275|\n",
      "|[33.1903340437226...|  573.4158673313865|\n",
      "|[32.3879758531538...|  470.4527333009554|\n",
      "|[30.7377203726281...|  461.7807421962299|\n",
      "|[32.1253868972878...| 457.84769594494855|\n",
      "|[32.3388993230671...| 407.70454754954415|\n",
      "|[32.1878120459321...|  452.3156754800354|\n",
      "|[32.6178560628234...|   605.061038804892|\n",
      "+--------------------+-------------------+\n",
      "only showing top 20 rows\n",
      "\n"
     ]
    }
   ],
   "source": [
    "final_df = output.select(\"features\", \"Yearly Amount Spent\")\n",
    "final_df.show()"
   ]
  },
  {
   "cell_type": "code",
   "execution_count": 26,
   "id": "3ae649c9-08fc-43cf-9db8-f181f10a5cee",
   "metadata": {},
   "outputs": [],
   "source": [
    "train_data, test_data = final_df.randomSplit([0.7, 0.3])"
   ]
  },
  {
   "cell_type": "code",
   "execution_count": 27,
   "id": "0bec19dd-3560-45f1-94ad-dd603fb7d94a",
   "metadata": {},
   "outputs": [
    {
     "name": "stdout",
     "output_type": "stream",
     "text": [
      "+--------------------+-------------------+\n",
      "|            features|Yearly Amount Spent|\n",
      "+--------------------+-------------------+\n",
      "|[29.5324289670579...|  408.6403510726275|\n",
      "|[30.3931845423455...|  319.9288698031936|\n",
      "|[30.5743636841713...| 442.06441375806565|\n",
      "|[30.7377203726281...|  461.7807421962299|\n",
      "|[30.8162006488763...|   266.086340948469|\n",
      "|[30.8794843441274...|  490.2065999848547|\n",
      "|[30.9716756438877...|  494.6386097568927|\n",
      "|[31.0472221394875...|  392.4973991890214|\n",
      "|[31.0613251567161...|  487.5554580579016|\n",
      "|[31.1239743499119...|  486.9470538397658|\n",
      "|[31.2681042107507...|  423.4705331738239|\n",
      "|[31.2834474760581...|  591.7810894256675|\n",
      "|[31.3091926408918...|  432.7207178399336|\n",
      "|[31.3123495994443...|  463.5914180279406|\n",
      "|[31.3584771924370...|  495.1759504494754|\n",
      "|[31.3895854806643...|  410.0696110599829|\n",
      "|[31.4252268808548...|  530.7667186547619|\n",
      "|[31.4459724827577...| 484.87696493512857|\n",
      "|[31.4474464941278...|   418.602742095224|\n",
      "|[31.5147378578019...|  489.8124879964614|\n",
      "+--------------------+-------------------+\n",
      "only showing top 20 rows\n",
      "\n"
     ]
    }
   ],
   "source": [
    "train_data.show()"
   ]
  },
  {
   "cell_type": "code",
   "execution_count": 28,
   "id": "f6869675-e436-4ded-a647-f34d72ad4859",
   "metadata": {},
   "outputs": [
    {
     "name": "stdout",
     "output_type": "stream",
     "text": [
      "+-------+-------------------+\n",
      "|summary|Yearly Amount Spent|\n",
      "+-------+-------------------+\n",
      "|  count|                349|\n",
      "|   mean|  503.4318992268231|\n",
      "| stddev|  81.24921639156864|\n",
      "|    min| 256.67058229005585|\n",
      "|    max|  765.5184619388373|\n",
      "+-------+-------------------+\n",
      "\n"
     ]
    }
   ],
   "source": [
    "train_data.describe().show()"
   ]
  },
  {
   "cell_type": "code",
   "execution_count": 29,
   "id": "a9dd25a3-f37a-41a7-ba2e-5f8ba66464b1",
   "metadata": {},
   "outputs": [
    {
     "name": "stdout",
     "output_type": "stream",
     "text": [
      "+-------+-------------------+\n",
      "|summary|Yearly Amount Spent|\n",
      "+-------+-------------------+\n",
      "|  count|                151|\n",
      "|   mean|   489.796598007511|\n",
      "| stddev|  74.03743497024469|\n",
      "|    min|  275.9184206503857|\n",
      "|    max|  689.2356997616951|\n",
      "+-------+-------------------+\n",
      "\n"
     ]
    }
   ],
   "source": [
    "test_data.describe().show()"
   ]
  },
  {
   "cell_type": "code",
   "execution_count": 30,
   "id": "d0a6a8b5-1041-4dc8-827b-e1c0d2749bab",
   "metadata": {},
   "outputs": [],
   "source": [
    "from pyspark.ml.regression import LinearRegression"
   ]
  },
  {
   "cell_type": "code",
   "execution_count": 31,
   "id": "4af68508-9782-487a-891e-738abe7e5a45",
   "metadata": {},
   "outputs": [],
   "source": [
    "lm = LinearRegression(labelCol=\"Yearly Amount Spent\")"
   ]
  },
  {
   "cell_type": "code",
   "execution_count": 32,
   "id": "5dee6f6a-dde2-4aea-872d-69d96b8609e8",
   "metadata": {},
   "outputs": [
    {
     "name": "stderr",
     "output_type": "stream",
     "text": [
      "25/07/14 09:13:58 WARN Instrumentation: [de68f0a2] regParam is zero, which might cause numerical instability and overfitting.\n"
     ]
    }
   ],
   "source": [
    "model = lm.fit(train_data)"
   ]
  },
  {
   "cell_type": "code",
   "execution_count": 33,
   "id": "5ddaab96-94e4-4f48-bb6c-1310097d02d2",
   "metadata": {},
   "outputs": [],
   "source": [
    "import pandas as pd"
   ]
  },
  {
   "cell_type": "code",
   "execution_count": 34,
   "id": "f1e3b71d-583c-4874-8374-3aeb4cc97591",
   "metadata": {},
   "outputs": [
    {
     "data": {
      "text/html": [
       "<div>\n",
       "<style scoped>\n",
       "    .dataframe tbody tr th:only-of-type {\n",
       "        vertical-align: middle;\n",
       "    }\n",
       "\n",
       "    .dataframe tbody tr th {\n",
       "        vertical-align: top;\n",
       "    }\n",
       "\n",
       "    .dataframe thead th {\n",
       "        text-align: right;\n",
       "    }\n",
       "</style>\n",
       "<table border=\"1\" class=\"dataframe\">\n",
       "  <thead>\n",
       "    <tr style=\"text-align: right;\">\n",
       "      <th></th>\n",
       "      <th>Coefficients</th>\n",
       "    </tr>\n",
       "  </thead>\n",
       "  <tbody>\n",
       "    <tr>\n",
       "      <th>Avg Session Length</th>\n",
       "      <td>25.939579</td>\n",
       "    </tr>\n",
       "    <tr>\n",
       "      <th>Time on App</th>\n",
       "      <td>38.480526</td>\n",
       "    </tr>\n",
       "    <tr>\n",
       "      <th>Length of Membership</th>\n",
       "      <td>61.508681</td>\n",
       "    </tr>\n",
       "  </tbody>\n",
       "</table>\n",
       "</div>"
      ],
      "text/plain": [
       "                      Coefficients\n",
       "Avg Session Length       25.939579\n",
       "Time on App              38.480526\n",
       "Length of Membership     61.508681"
      ]
     },
     "execution_count": 34,
     "metadata": {},
     "output_type": "execute_result"
    }
   ],
   "source": [
    "pd.DataFrame({\"Coefficients\": model.coefficients}, index=coef_var)"
   ]
  },
  {
   "cell_type": "code",
   "execution_count": 35,
   "id": "797762c7-4e1a-4ba3-b60c-5ae0a4a30b7d",
   "metadata": {},
   "outputs": [],
   "source": [
    "res = model.evaluate(test_data)"
   ]
  },
  {
   "cell_type": "code",
   "execution_count": 36,
   "id": "cc9b49b0-d65c-459a-b59f-b84559213bfa",
   "metadata": {},
   "outputs": [
    {
     "name": "stdout",
     "output_type": "stream",
     "text": [
      "+-------------------+\n",
      "|          residuals|\n",
      "+-------------------+\n",
      "| -5.638151525470505|\n",
      "| -4.315347119113028|\n",
      "|-13.055858324228154|\n",
      "| -6.787553579620408|\n",
      "| 10.383355424054571|\n",
      "|-0.5946102698668483|\n",
      "| 3.6493786450727157|\n",
      "| -4.053709149126973|\n",
      "|-14.178073696525644|\n",
      "| 18.035197544856373|\n",
      "| 16.783862287285785|\n",
      "| -4.468151097041584|\n",
      "|  7.128040606114098|\n",
      "|-2.1038738779279242|\n",
      "| -11.63532734100022|\n",
      "|-17.400616613410023|\n",
      "| -2.331049178436615|\n",
      "| -10.27141858615039|\n",
      "|-17.218877982553124|\n",
      "|-2.4401693168724137|\n",
      "+-------------------+\n",
      "only showing top 20 rows\n",
      "\n"
     ]
    }
   ],
   "source": [
    "res.residuals.show()"
   ]
  },
  {
   "cell_type": "code",
   "execution_count": 37,
   "id": "e91cd658-7a34-4755-828e-d4e9dfb868ab",
   "metadata": {},
   "outputs": [],
   "source": [
    "unlabeled_data = test_data.select(\"features\")"
   ]
  },
  {
   "cell_type": "code",
   "execution_count": 38,
   "id": "880af125-c212-4b6d-ac4c-4c88f113a998",
   "metadata": {},
   "outputs": [],
   "source": [
    "predictions = model.transform(unlabeled_data)"
   ]
  },
  {
   "cell_type": "code",
   "execution_count": 39,
   "id": "125e3b86-9c85-4417-b330-87754a5f8750",
   "metadata": {},
   "outputs": [
    {
     "name": "stdout",
     "output_type": "stream",
     "text": [
      "+--------------------+------------------+\n",
      "|            features|        prediction|\n",
      "+--------------------+------------------+\n",
      "|[30.4925366965402...|  288.109397245385|\n",
      "|[30.8364326747734...|471.81724754610264|\n",
      "|[31.0662181616375...| 461.9891515319025|\n",
      "|[31.1280900496166...| 564.0402403266751|\n",
      "|[31.1695067987115...|416.97317537823824|\n",
      "|[31.2606468698795...| 421.9212415268182|\n",
      "|[31.3662121671876...| 426.9395039114122|\n",
      "|[31.5171218025062...| 279.9721297995127|\n",
      "|[31.5741380228732...| 558.5873458571125|\n",
      "|[31.6005122003032...|461.13765394624056|\n",
      "|[31.6098395733896...| 427.7616873638224|\n",
      "|[31.6253601348306...| 380.8050518539658|\n",
      "|[31.6548096756927...| 468.1353831214344|\n",
      "|[31.7216523605090...|349.88080050980057|\n",
      "|[31.8093003166791...| 548.4072267038414|\n",
      "|[31.8164283341993...| 518.5231081170664|\n",
      "|[31.8530748017465...| 461.6161726407886|\n",
      "|[31.8648325480987...|450.16269906296407|\n",
      "|[31.9048571310136...|491.16873540536926|\n",
      "|[31.9120759292006...|389.97488562258013|\n",
      "+--------------------+------------------+\n",
      "only showing top 20 rows\n",
      "\n"
     ]
    }
   ],
   "source": [
    "predictions.show()"
   ]
  },
  {
   "cell_type": "code",
   "execution_count": 41,
   "id": "ea31dee6-321b-4af8-bfb8-be9eda818dc5",
   "metadata": {},
   "outputs": [
    {
     "name": "stdout",
     "output_type": "stream",
     "text": [
      "MAE: 8.060935081004494\n",
      "MSE: 98.96560632336607\n",
      "RMSE: 9.948145873647313\n",
      "R2: 0.9818253000550514\n",
      "Adj R2: 0.9814543878112769\n"
     ]
    }
   ],
   "source": [
    "print(\"MAE:\", res.meanAbsoluteError)\n",
    "print(\"MSE:\", res.meanSquaredError)\n",
    "print(\"RMSE:\", res.rootMeanSquaredError)\n",
    "print(\"R2:\", res.r2)\n",
    "print(\"Adj R2:\", res.r2adj)"
   ]
  },
  {
   "cell_type": "code",
   "execution_count": null,
   "id": "1aef34df-5a04-4a8d-b98e-dbf7e7fdf1c9",
   "metadata": {},
   "outputs": [],
   "source": []
  }
 ],
 "metadata": {
  "kernelspec": {
   "display_name": "Python 3 (ipykernel)",
   "language": "python",
   "name": "python3"
  },
  "language_info": {
   "codemirror_mode": {
    "name": "ipython",
    "version": 3
   },
   "file_extension": ".py",
   "mimetype": "text/x-python",
   "name": "python",
   "nbconvert_exporter": "python",
   "pygments_lexer": "ipython3",
   "version": "3.10.16"
  }
 },
 "nbformat": 4,
 "nbformat_minor": 5
}
