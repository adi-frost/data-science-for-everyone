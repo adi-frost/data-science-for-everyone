{
 "cells": [
  {
   "cell_type": "markdown",
   "id": "9fc43a0e-9aea-4376-8e00-ce42ec0102ef",
   "metadata": {},
   "source": [
    "## Linear Regression with PySpark\n",
    "\n",
    "* Based on the official Spark documentation for PySpark"
   ]
  },
  {
   "cell_type": "code",
   "execution_count": 1,
   "id": "4da1c2e6-bdb2-4bee-9814-4fdeec260f28",
   "metadata": {},
   "outputs": [
    {
     "name": "stdout",
     "output_type": "stream",
     "text": [
      "--2025-07-14 08:57:56--  https://raw.githubusercontent.com/apache/spark/master/data/mllib/sample_linear_regression_data.txt\n",
      "Resolving raw.githubusercontent.com (raw.githubusercontent.com)... 185.199.110.133, 185.199.111.133, 185.199.108.133, ...\n",
      "connected. to raw.githubusercontent.com (raw.githubusercontent.com)|185.199.110.133|:443... \n",
      "HTTP request sent, awaiting response... 200 OK\n",
      "Length: 119069 (116K) [text/plain]\n",
      "Saving to: ‘sample_linear_regression_data.txt.1’\n",
      "\n",
      "sample_linear_regre 100%[===================>] 116.28K   559KB/s    in 0.2s    \n",
      "\n",
      "2025-07-14 08:57:57 (559 KB/s) - ‘sample_linear_regression_data.txt.1’ saved [119069/119069]\n",
      "\n"
     ]
    }
   ],
   "source": [
    "!wget https://raw.githubusercontent.com/apache/spark/master/data/mllib/sample_linear_regression_data.txt >> sample_linear_regression_data.txt"
   ]
  },
  {
   "cell_type": "code",
   "execution_count": 2,
   "id": "3d7c7989-737e-42f8-acbb-d5d2b6c1dacc",
   "metadata": {},
   "outputs": [],
   "source": [
    "from pyspark.sql import SparkSession"
   ]
  },
  {
   "cell_type": "code",
   "execution_count": 3,
   "id": "2886675d-ede6-451f-a5a9-a9e962374199",
   "metadata": {},
   "outputs": [
    {
     "name": "stderr",
     "output_type": "stream",
     "text": [
      "25/07/14 08:58:00 WARN Utils: Your hostname, aditya-HP-Laptop-15s-eq1xxx resolves to a loopback address: 127.0.1.1; using 10.200.82.42 instead (on interface wlo1)\n",
      "25/07/14 08:58:00 WARN Utils: Set SPARK_LOCAL_IP if you need to bind to another address\n",
      "Setting default log level to \"WARN\".\n",
      "To adjust logging level use sc.setLogLevel(newLevel). For SparkR, use setLogLevel(newLevel).\n",
      "25/07/14 08:58:01 WARN NativeCodeLoader: Unable to load native-hadoop library for your platform... using builtin-java classes where applicable\n"
     ]
    }
   ],
   "source": [
    "spark = SparkSession.builder.appName(\"lr_example\").getOrCreate()"
   ]
  },
  {
   "cell_type": "code",
   "execution_count": 4,
   "id": "9353d107-851d-4ea1-b42e-09e61072b7f6",
   "metadata": {},
   "outputs": [],
   "source": [
    "from pyspark.ml.regression import LinearRegression"
   ]
  },
  {
   "cell_type": "code",
   "execution_count": 5,
   "id": "0d1b360c-360b-4efc-81df-73ea221fd5e6",
   "metadata": {
    "scrolled": true
   },
   "outputs": [
    {
     "name": "stderr",
     "output_type": "stream",
     "text": [
      "25/07/14 08:58:05 WARN LibSVMFileFormat: 'numFeatures' option not specified, determining the number of features by going though the input. If you know the number in advance, please specify it via 'numFeatures' option to avoid the extra scan.\n",
      "                                                                                "
     ]
    }
   ],
   "source": [
    "training = spark.read.format(\"libsvm\").load(\"sample_linear_regression_data.txt.2\")"
   ]
  },
  {
   "cell_type": "code",
   "execution_count": 6,
   "id": "d8083ade-268a-4285-acb3-4c69b3a2c64a",
   "metadata": {},
   "outputs": [
    {
     "name": "stdout",
     "output_type": "stream",
     "text": [
      "+-------------------+--------------------+\n",
      "|              label|            features|\n",
      "+-------------------+--------------------+\n",
      "| -9.490009878824548|(10,[0,1,2,3,4,5,...|\n",
      "| 0.2577820163584905|(10,[0,1,2,3,4,5,...|\n",
      "| -4.438869807456516|(10,[0,1,2,3,4,5,...|\n",
      "|-19.782762789614537|(10,[0,1,2,3,4,5,...|\n",
      "| -7.966593841555266|(10,[0,1,2,3,4,5,...|\n",
      "| -7.896274316726144|(10,[0,1,2,3,4,5,...|\n",
      "| -8.464803554195287|(10,[0,1,2,3,4,5,...|\n",
      "| 2.1214592666251364|(10,[0,1,2,3,4,5,...|\n",
      "| 1.0720117616524107|(10,[0,1,2,3,4,5,...|\n",
      "|-13.772441561702871|(10,[0,1,2,3,4,5,...|\n",
      "| -5.082010756207233|(10,[0,1,2,3,4,5,...|\n",
      "|  7.887786536531237|(10,[0,1,2,3,4,5,...|\n",
      "| 14.323146365332388|(10,[0,1,2,3,4,5,...|\n",
      "|-20.057482615789212|(10,[0,1,2,3,4,5,...|\n",
      "|-0.8995693247765151|(10,[0,1,2,3,4,5,...|\n",
      "| -19.16829262296376|(10,[0,1,2,3,4,5,...|\n",
      "|  5.601801561245534|(10,[0,1,2,3,4,5,...|\n",
      "|-3.2256352187273354|(10,[0,1,2,3,4,5,...|\n",
      "| 1.5299675726687754|(10,[0,1,2,3,4,5,...|\n",
      "| -0.250102447941961|(10,[0,1,2,3,4,5,...|\n",
      "+-------------------+--------------------+\n",
      "only showing top 20 rows\n",
      "\n"
     ]
    }
   ],
   "source": [
    "training.show()"
   ]
  },
  {
   "cell_type": "code",
   "execution_count": 7,
   "id": "0dfeb9d8-0f7e-4d1b-9bb4-ed44705bb98b",
   "metadata": {},
   "outputs": [],
   "source": [
    "lr = LinearRegression(featuresCol = \"features\", labelCol = \"label\", predictionCol=\"prediction\")"
   ]
  },
  {
   "cell_type": "code",
   "execution_count": 8,
   "id": "ebcf6f78-60aa-4351-9d9b-f143a332adb7",
   "metadata": {},
   "outputs": [
    {
     "name": "stderr",
     "output_type": "stream",
     "text": [
      "25/07/14 08:58:12 WARN Instrumentation: [2dc7abc1] regParam is zero, which might cause numerical instability and overfitting.\n",
      "25/07/14 08:58:12 WARN InstanceBuilder: Failed to load implementation from:dev.ludovic.netlib.blas.VectorBLAS\n"
     ]
    }
   ],
   "source": [
    "lrModel = lr.fit(training)"
   ]
  },
  {
   "cell_type": "code",
   "execution_count": 9,
   "id": "97fc249d-bab1-4e88-9c63-5450cb2f2697",
   "metadata": {},
   "outputs": [
    {
     "name": "stdout",
     "output_type": "stream",
     "text": [
      "Coefficients: [0.0073350710225801715,0.8313757584337543,-0.8095307954684084,2.441191686884721,0.5191713795290003,1.1534591903547016,-0.2989124112808717,-0.5128514186201779,-0.619712827067017,0.6956151804322931]\n",
      "Intercept:  0.14228558260358093\n"
     ]
    }
   ],
   "source": [
    "print(\"Coefficients:\", str(lrModel.coefficients))\n",
    "print(\"Intercept: \", str(lrModel.intercept))"
   ]
  },
  {
   "cell_type": "code",
   "execution_count": 10,
   "id": "0d643a53-75df-47da-b3f3-6f6961e48f0f",
   "metadata": {},
   "outputs": [],
   "source": [
    "trainSummary = lrModel.summary"
   ]
  },
  {
   "cell_type": "code",
   "execution_count": 11,
   "id": "0ddc4ae8-44d4-4a5f-b6da-cdd31b15bf49",
   "metadata": {},
   "outputs": [
    {
     "data": {
      "text/plain": [
       "103.28843028724194"
      ]
     },
     "execution_count": 11,
     "metadata": {},
     "output_type": "execute_result"
    }
   ],
   "source": [
    "trainSummary.meanSquaredError"
   ]
  },
  {
   "cell_type": "code",
   "execution_count": 12,
   "id": "49e76fea-b9c4-48a2-b8f3-0043810847cf",
   "metadata": {},
   "outputs": [
    {
     "data": {
      "text/plain": [
       "10.16309157133015"
      ]
     },
     "execution_count": 12,
     "metadata": {},
     "output_type": "execute_result"
    }
   ],
   "source": [
    "trainSummary.rootMeanSquaredError"
   ]
  },
  {
   "cell_type": "code",
   "execution_count": 13,
   "id": "b1d5912e-9872-4b4a-8143-e6abc0b4293e",
   "metadata": {},
   "outputs": [
    {
     "data": {
      "text/plain": [
       "0.027839179518600154"
      ]
     },
     "execution_count": 13,
     "metadata": {},
     "output_type": "execute_result"
    }
   ],
   "source": [
    "trainSummary.r2"
   ]
  },
  {
   "cell_type": "code",
   "execution_count": 14,
   "id": "420fa452-2cc3-4c10-8e67-9ecbb217417e",
   "metadata": {},
   "outputs": [
    {
     "name": "stdout",
     "output_type": "stream",
     "text": [
      "MAE:  8.145215527783876\n",
      "MSE:  103.28843028724194\n"
     ]
    }
   ],
   "source": [
    "print(\"MAE: \", trainSummary.meanAbsoluteError)\n",
    "print(\"MSE: \", trainSummary.meanSquaredError)"
   ]
  },
  {
   "cell_type": "code",
   "execution_count": 15,
   "id": "039cbb0e-b2e9-4c4e-9383-f7a0b3a1a267",
   "metadata": {},
   "outputs": [
    {
     "name": "stdout",
     "output_type": "stream",
     "text": [
      "RMSE:  10.16309157133015\n"
     ]
    }
   ],
   "source": [
    "print(\"RMSE: \", trainSummary.rootMeanSquaredError)"
   ]
  },
  {
   "cell_type": "code",
   "execution_count": 16,
   "id": "013dc101-b6b9-440b-8483-3496857dc694",
   "metadata": {},
   "outputs": [
    {
     "name": "stdout",
     "output_type": "stream",
     "text": [
      "R2:  0.027839179518600154\n"
     ]
    }
   ],
   "source": [
    "print(\"R2: \", trainSummary.r2)"
   ]
  },
  {
   "cell_type": "code",
   "execution_count": 17,
   "id": "07d019f1-3b90-4057-a9ee-d49e4d257d46",
   "metadata": {},
   "outputs": [
    {
     "name": "stdout",
     "output_type": "stream",
     "text": [
      "Adj R2:  0.007999162774081858\n"
     ]
    }
   ],
   "source": [
    "print(\"Adj R2: \", trainSummary.r2adj)"
   ]
  },
  {
   "cell_type": "markdown",
   "id": "763fe769-67d6-4fac-a703-eda713c7a26a",
   "metadata": {},
   "source": [
    "### Train Test Split with PySpark\n",
    "\n",
    "* Pass in the split between training/test as a list.\n",
    "* No correct, but generally 70/30 or 60/40 splits are used.\n",
    "* Depending on how much data you have and how unbalanced it is."
   ]
  },
  {
   "cell_type": "code",
   "execution_count": 18,
   "id": "b2964a6c-fdf7-4728-867e-5c1ecf87e07c",
   "metadata": {},
   "outputs": [
    {
     "name": "stderr",
     "output_type": "stream",
     "text": [
      "25/07/14 08:58:13 WARN LibSVMFileFormat: 'numFeatures' option not specified, determining the number of features by going though the input. If you know the number in advance, please specify it via 'numFeatures' option to avoid the extra scan.\n"
     ]
    }
   ],
   "source": [
    "df = spark.read.format(\"libsvm\").load(\"sample_linear_regression_data.txt.2\") # Full Dataset"
   ]
  },
  {
   "cell_type": "code",
   "execution_count": 19,
   "id": "b53a4864-b732-4fbd-9bde-516c13a1945c",
   "metadata": {},
   "outputs": [],
   "source": [
    "train_data, test_data = df.randomSplit([0.7, 0.3], seed = 42)"
   ]
  },
  {
   "cell_type": "code",
   "execution_count": 20,
   "id": "f8ef84fc-46d3-45e8-a137-ae97d5ebb09a",
   "metadata": {},
   "outputs": [
    {
     "name": "stdout",
     "output_type": "stream",
     "text": [
      "+-------------------+--------------------+\n",
      "|              label|            features|\n",
      "+-------------------+--------------------+\n",
      "|-28.571478869743427|(10,[0,1,2,3,4,5,...|\n",
      "|-28.046018037776633|(10,[0,1,2,3,4,5,...|\n",
      "|-26.736207182601724|(10,[0,1,2,3,4,5,...|\n",
      "| -23.51088409032297|(10,[0,1,2,3,4,5,...|\n",
      "|-23.487440120936512|(10,[0,1,2,3,4,5,...|\n",
      "|-22.837460416919342|(10,[0,1,2,3,4,5,...|\n",
      "|-20.057482615789212|(10,[0,1,2,3,4,5,...|\n",
      "|-19.884560774273424|(10,[0,1,2,3,4,5,...|\n",
      "|-19.872991038068406|(10,[0,1,2,3,4,5,...|\n",
      "| -19.16829262296376|(10,[0,1,2,3,4,5,...|\n",
      "|-18.845922472898582|(10,[0,1,2,3,4,5,...|\n",
      "| -18.27521356600463|(10,[0,1,2,3,4,5,...|\n",
      "|-17.494200356883344|(10,[0,1,2,3,4,5,...|\n",
      "| -17.32672073267595|(10,[0,1,2,3,4,5,...|\n",
      "| -16.71909683360509|(10,[0,1,2,3,4,5,...|\n",
      "|-16.692207021311106|(10,[0,1,2,3,4,5,...|\n",
      "| -16.26143027545273|(10,[0,1,2,3,4,5,...|\n",
      "| -15.86200932757056|(10,[0,1,2,3,4,5,...|\n",
      "|-15.732088272239245|(10,[0,1,2,3,4,5,...|\n",
      "|-15.375857723312297|(10,[0,1,2,3,4,5,...|\n",
      "+-------------------+--------------------+\n",
      "only showing top 20 rows\n",
      "\n"
     ]
    }
   ],
   "source": [
    "train_data.show()"
   ]
  },
  {
   "cell_type": "code",
   "execution_count": 21,
   "id": "53499c96-1565-49c7-a2cc-4aa97b55a458",
   "metadata": {},
   "outputs": [
    {
     "name": "stdout",
     "output_type": "stream",
     "text": [
      "+-------------------+--------------------+\n",
      "|              label|            features|\n",
      "+-------------------+--------------------+\n",
      "|-26.805483428483072|(10,[0,1,2,3,4,5,...|\n",
      "|-22.949825936196074|(10,[0,1,2,3,4,5,...|\n",
      "|-21.432387764165806|(10,[0,1,2,3,4,5,...|\n",
      "|-20.212077258958672|(10,[0,1,2,3,4,5,...|\n",
      "|-19.782762789614537|(10,[0,1,2,3,4,5,...|\n",
      "| -19.66731861537172|(10,[0,1,2,3,4,5,...|\n",
      "|-19.402336030214553|(10,[0,1,2,3,4,5,...|\n",
      "|-17.803626188664516|(10,[0,1,2,3,4,5,...|\n",
      "|-17.428674570939506|(10,[0,1,2,3,4,5,...|\n",
      "|-17.065399625876015|(10,[0,1,2,3,4,5,...|\n",
      "|-17.026492264209548|(10,[0,1,2,3,4,5,...|\n",
      "|-16.151349351277112|(10,[0,1,2,3,4,5,...|\n",
      "| -16.08565904102149|(10,[0,1,2,3,4,5,...|\n",
      "|-15.951512565794573|(10,[0,1,2,3,4,5,...|\n",
      "|-15.780685032623301|(10,[0,1,2,3,4,5,...|\n",
      "| -15.72351561304857|(10,[0,1,2,3,4,5,...|\n",
      "|-15.437384793431217|(10,[0,1,2,3,4,5,...|\n",
      "|-15.334767479922341|(10,[0,1,2,3,4,5,...|\n",
      "|-14.822152909751189|(10,[0,1,2,3,4,5,...|\n",
      "|-14.762758252931127|(10,[0,1,2,3,4,5,...|\n",
      "+-------------------+--------------------+\n",
      "only showing top 20 rows\n",
      "\n"
     ]
    }
   ],
   "source": [
    "test_data.show()"
   ]
  },
  {
   "cell_type": "code",
   "execution_count": 22,
   "id": "6ef07f8f-a4aa-402b-8fdb-324ba61c2e09",
   "metadata": {},
   "outputs": [],
   "source": [
    "unlabeled_data = test_data.select('features')"
   ]
  },
  {
   "cell_type": "code",
   "execution_count": 23,
   "id": "6ddc02b4-47cb-4fd8-b5da-ead2b2b0200f",
   "metadata": {},
   "outputs": [
    {
     "name": "stderr",
     "output_type": "stream",
     "text": [
      "25/07/14 08:58:15 WARN Instrumentation: [400722c0] regParam is zero, which might cause numerical instability and overfitting.\n",
      "25/07/14 08:58:15 WARN GarbageCollectionMetrics: To enable non-built-in garbage collector(s) List(G1 Concurrent GC), users should configure it(them) to spark.eventLog.gcMetrics.youngGenerationGarbageCollectors or spark.eventLog.gcMetrics.oldGenerationGarbageCollectors\n"
     ]
    }
   ],
   "source": [
    "corrected_model = lr.fit(train_data)"
   ]
  },
  {
   "cell_type": "code",
   "execution_count": 24,
   "id": "97e5279a-9c49-46a8-98b1-f63069180110",
   "metadata": {},
   "outputs": [],
   "source": [
    "res = corrected_model.evaluate(test_data)"
   ]
  },
  {
   "cell_type": "code",
   "execution_count": 26,
   "id": "48c5aebd-c10b-4d3d-9e88-b0a6f48ced08",
   "metadata": {},
   "outputs": [
    {
     "name": "stdout",
     "output_type": "stream",
     "text": [
      "MAE:  9.855750048378727\n",
      "MSE:  142.31866794563598\n",
      "RMSE:  11.929738804585622\n",
      "R2:  -0.14679155085585793\n",
      "Adj R2:  -0.24651255527810645\n"
     ]
    }
   ],
   "source": [
    "print(\"MAE: \", res.meanAbsoluteError)\n",
    "print(\"MSE: \", res.meanSquaredError)\n",
    "print(\"RMSE: \", res.rootMeanSquaredError)\n",
    "print(\"R2: \", res.r2)\n",
    "print(\"Adj R2: \", res.r2adj)"
   ]
  },
  {
   "cell_type": "code",
   "execution_count": 27,
   "id": "02027699-c4bd-4ba6-a5e3-37d74f864e5a",
   "metadata": {},
   "outputs": [],
   "source": [
    "predictions = corrected_model.transform(unlabeled_data)"
   ]
  },
  {
   "cell_type": "code",
   "execution_count": 28,
   "id": "67e4d603-98d8-43b6-8ea9-f54965120a0c",
   "metadata": {},
   "outputs": [
    {
     "name": "stdout",
     "output_type": "stream",
     "text": [
      "+--------------------+--------------------+\n",
      "|            features|          prediction|\n",
      "+--------------------+--------------------+\n",
      "|(10,[0,1,2,3,4,5,...|   1.500419302439231|\n",
      "|(10,[0,1,2,3,4,5,...|   6.540721556576252|\n",
      "|(10,[0,1,2,3,4,5,...|  1.4369775273526635|\n",
      "|(10,[0,1,2,3,4,5,...|  1.3156052948594428|\n",
      "|(10,[0,1,2,3,4,5,...|-0.09510236182489817|\n",
      "|(10,[0,1,2,3,4,5,...| 0.12648407749270263|\n",
      "|(10,[0,1,2,3,4,5,...|-0.40745999229762575|\n",
      "|(10,[0,1,2,3,4,5,...| -1.3827504557268635|\n",
      "|(10,[0,1,2,3,4,5,...|  2.6965070486236957|\n",
      "|(10,[0,1,2,3,4,5,...|    2.42284270742401|\n",
      "|(10,[0,1,2,3,4,5,...|-0.33620505674116263|\n",
      "|(10,[0,1,2,3,4,5,...|  1.5811910073932323|\n",
      "|(10,[0,1,2,3,4,5,...| -0.9126865153126812|\n",
      "|(10,[0,1,2,3,4,5,...| -2.4337353560269603|\n",
      "|(10,[0,1,2,3,4,5,...|  4.7238640017384945|\n",
      "|(10,[0,1,2,3,4,5,...|  1.7972086764514907|\n",
      "|(10,[0,1,2,3,4,5,...| -0.3727532193177282|\n",
      "|(10,[0,1,2,3,4,5,...|   3.393593882956883|\n",
      "|(10,[0,1,2,3,4,5,...|   1.173823533651508|\n",
      "|(10,[0,1,2,3,4,5,...| 0.40092321249281315|\n",
      "+--------------------+--------------------+\n",
      "only showing top 20 rows\n",
      "\n"
     ]
    }
   ],
   "source": [
    "predictions.show()"
   ]
  },
  {
   "cell_type": "code",
   "execution_count": null,
   "id": "73dc8bcb-7eb6-42c8-b6cb-52b0013f350f",
   "metadata": {},
   "outputs": [],
   "source": []
  }
 ],
 "metadata": {
  "kernelspec": {
   "display_name": "Python 3 (ipykernel)",
   "language": "python",
   "name": "python3"
  },
  "language_info": {
   "codemirror_mode": {
    "name": "ipython",
    "version": 3
   },
   "file_extension": ".py",
   "mimetype": "text/x-python",
   "name": "python",
   "nbconvert_exporter": "python",
   "pygments_lexer": "ipython3",
   "version": "3.10.16"
  }
 },
 "nbformat": 4,
 "nbformat_minor": 5
}
