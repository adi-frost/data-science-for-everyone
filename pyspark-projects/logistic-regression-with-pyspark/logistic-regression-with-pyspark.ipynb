{
 "cells": [
  {
   "cell_type": "markdown",
   "id": "da251cd1-22b4-4f6b-b8c9-df9b23fd1657",
   "metadata": {},
   "source": [
    "## Logistic Regression with PySpark: Customer Churn"
   ]
  },
  {
   "cell_type": "code",
   "execution_count": 1,
   "id": "c33addaf-5297-489a-a3d1-478badc8318d",
   "metadata": {},
   "outputs": [],
   "source": [
    "from pyspark.sql import SparkSession"
   ]
  },
  {
   "cell_type": "code",
   "execution_count": 11,
   "id": "ac755507-890b-4091-a8e1-84d7f5601f8e",
   "metadata": {},
   "outputs": [],
   "source": [
    "spark = SparkSession.builder \\\n",
    "                    .appName(\"churn\") \\\n",
    "                    .getOrCreate()"
   ]
  },
  {
   "cell_type": "code",
   "execution_count": 12,
   "id": "e1ea168c-dc65-4fd0-8029-051926185baf",
   "metadata": {},
   "outputs": [],
   "source": [
    "df = spark.read.csv(\"customer_churn.csv\", inferSchema=True, header=True)"
   ]
  },
  {
   "cell_type": "code",
   "execution_count": 13,
   "id": "e7b68fa5-1adc-46b1-add9-a128f291b73d",
   "metadata": {},
   "outputs": [
    {
     "name": "stdout",
     "output_type": "stream",
     "text": [
      "root\n",
      " |-- Names: string (nullable = true)\n",
      " |-- Age: double (nullable = true)\n",
      " |-- Total_Purchase: double (nullable = true)\n",
      " |-- Account_Manager: integer (nullable = true)\n",
      " |-- Years: double (nullable = true)\n",
      " |-- Num_Sites: double (nullable = true)\n",
      " |-- Onboard_date: timestamp (nullable = true)\n",
      " |-- Location: string (nullable = true)\n",
      " |-- Company: string (nullable = true)\n",
      " |-- Churn: integer (nullable = true)\n",
      "\n"
     ]
    }
   ],
   "source": [
    "df.printSchema()"
   ]
  },
  {
   "cell_type": "code",
   "execution_count": 14,
   "id": "0aa16f48-89b8-4728-88bf-c4648cef706e",
   "metadata": {},
   "outputs": [
    {
     "name": "stdout",
     "output_type": "stream",
     "text": [
      "+-------+-------------+-----------------+-----------------+------------------+-----------------+------------------+--------------------+--------------------+-------------------+\n",
      "|summary|        Names|              Age|   Total_Purchase|   Account_Manager|            Years|         Num_Sites|            Location|             Company|              Churn|\n",
      "+-------+-------------+-----------------+-----------------+------------------+-----------------+------------------+--------------------+--------------------+-------------------+\n",
      "|  count|          900|              900|              900|               900|              900|               900|                 900|                 900|                900|\n",
      "|   mean|         NULL|41.81666666666667|10062.82403333334|0.4811111111111111| 5.27315555555555| 8.587777777777777|                NULL|                NULL|0.16666666666666666|\n",
      "| stddev|         NULL|6.127560416916251|2408.644531858096|0.4999208935073339|1.274449013194616|1.7648355920350969|                NULL|                NULL| 0.3728852122772358|\n",
      "|    min|   Aaron King|             22.0|            100.0|                 0|              1.0|               3.0|00103 Jeffrey Cre...|     Abbott-Thompson|                  0|\n",
      "|    max|Zachary Walsh|             65.0|         18026.01|                 1|             9.15|              14.0|Unit 9800 Box 287...|Zuniga, Clark and...|                  1|\n",
      "+-------+-------------+-----------------+-----------------+------------------+-----------------+------------------+--------------------+--------------------+-------------------+\n",
      "\n"
     ]
    }
   ],
   "source": [
    "df.describe().show()"
   ]
  },
  {
   "cell_type": "code",
   "execution_count": 7,
   "id": "3e00d308-e32b-4062-8cd5-78c1c88d6df4",
   "metadata": {},
   "outputs": [
    {
     "data": {
      "text/plain": [
       "['Names',\n",
       " 'Age',\n",
       " 'Total_Purchase',\n",
       " 'Account_Manager',\n",
       " 'Years',\n",
       " 'Num_Sites',\n",
       " 'Onboard_date',\n",
       " 'Location',\n",
       " 'Company',\n",
       " 'Churn']"
      ]
     },
     "execution_count": 7,
     "metadata": {},
     "output_type": "execute_result"
    }
   ],
   "source": [
    "df.columns"
   ]
  },
  {
   "cell_type": "code",
   "execution_count": 8,
   "id": "f403a03a-36a9-4653-bd4d-74e986d2cd09",
   "metadata": {},
   "outputs": [],
   "source": [
    "from pyspark.ml.feature import VectorAssembler"
   ]
  },
  {
   "cell_type": "code",
   "execution_count": 15,
   "id": "1cff9b2e-650b-4d97-9d65-8d9c60eaa2f4",
   "metadata": {},
   "outputs": [],
   "source": [
    "assembler = VectorAssembler(inputCols=[\n",
    "    'Total_Purchase',\n",
    "    'Account_Manager',\n",
    "    'Years',\n",
    "    'Num_Sites' \n",
    "],\n",
    "outputCol=\"features\")"
   ]
  },
  {
   "cell_type": "code",
   "execution_count": 16,
   "id": "835fcae1-75d0-4a85-b748-27f0f001884d",
   "metadata": {},
   "outputs": [],
   "source": [
    "output = assembler.transform(df)"
   ]
  },
  {
   "cell_type": "code",
   "execution_count": 17,
   "id": "d7c602da-35ca-4aca-b7ed-fd1e8b66d92b",
   "metadata": {},
   "outputs": [],
   "source": [
    "df_final = output.select(\"features\", \"churn\")"
   ]
  },
  {
   "cell_type": "code",
   "execution_count": 18,
   "id": "5b4aac03-ae8f-4b46-b781-b7a1f861bf5b",
   "metadata": {},
   "outputs": [
    {
     "name": "stdout",
     "output_type": "stream",
     "text": [
      "+--------------------+-----+\n",
      "|            features|churn|\n",
      "+--------------------+-----+\n",
      "|[11066.8,0.0,7.22...|    1|\n",
      "|[11916.22,0.0,6.5...|    1|\n",
      "|[12884.75,0.0,6.6...|    1|\n",
      "|[8010.76,0.0,6.71...|    1|\n",
      "|[9191.58,0.0,5.56...|    1|\n",
      "|[10356.02,0.0,5.1...|    1|\n",
      "|[11331.58,1.0,5.2...|    1|\n",
      "|[9885.12,1.0,6.92...|    1|\n",
      "|[14062.6,1.0,5.46...|    1|\n",
      "|[8066.94,1.0,7.11...|    1|\n",
      "|[11575.37,1.0,5.2...|    1|\n",
      "|[8771.02,1.0,6.64...|    1|\n",
      "|[8988.67,1.0,4.84...|    1|\n",
      "|[8283.32,1.0,5.1,...|    1|\n",
      "|[6569.87,1.0,4.3,...|    1|\n",
      "|[10494.82,1.0,6.8...|    1|\n",
      "|[8213.41,1.0,7.35...|    1|\n",
      "|[11226.88,0.0,8.0...|    1|\n",
      "|[5515.09,0.0,6.85...|    1|\n",
      "|[8046.4,1.0,5.69,...|    1|\n",
      "+--------------------+-----+\n",
      "only showing top 20 rows\n",
      "\n"
     ]
    }
   ],
   "source": [
    "df_final.show()"
   ]
  },
  {
   "cell_type": "code",
   "execution_count": 19,
   "id": "de7650f8-5582-42a3-9fcb-970aed6d8a90",
   "metadata": {},
   "outputs": [],
   "source": [
    "train, test = df_final.randomSplit([0.7, 0.3], seed=42)"
   ]
  },
  {
   "cell_type": "code",
   "execution_count": 20,
   "id": "f491ed03-3b63-40be-89a3-44c21b3c7e60",
   "metadata": {},
   "outputs": [],
   "source": [
    "from pyspark.ml.classification import LogisticRegression"
   ]
  },
  {
   "cell_type": "code",
   "execution_count": 21,
   "id": "cda8a817-2afe-4e3f-8019-5ee1513e1aa6",
   "metadata": {},
   "outputs": [],
   "source": [
    "lr = LogisticRegression(labelCol=\"churn\")"
   ]
  },
  {
   "cell_type": "code",
   "execution_count": 22,
   "id": "33c5bb71-17fa-4cc1-b9bf-108dcaddf218",
   "metadata": {},
   "outputs": [
    {
     "name": "stderr",
     "output_type": "stream",
     "text": [
      "25/07/15 00:55:28 WARN InstanceBuilder: Failed to load implementation from:dev.ludovic.netlib.blas.VectorBLAS\n"
     ]
    }
   ],
   "source": [
    "lrm = lr.fit(train)"
   ]
  },
  {
   "cell_type": "code",
   "execution_count": 24,
   "id": "d1ebefc6-73f4-4925-a3de-164358b64944",
   "metadata": {},
   "outputs": [
    {
     "data": {
      "text/plain": [
       "<pyspark.ml.classification.BinaryLogisticRegressionTrainingSummary at 0x73e5339ff340>"
      ]
     },
     "execution_count": 24,
     "metadata": {},
     "output_type": "execute_result"
    }
   ],
   "source": [
    "lrm.summary"
   ]
  },
  {
   "cell_type": "code",
   "execution_count": 25,
   "id": "136641a8-befc-40b0-8fdf-9dde3e8718bc",
   "metadata": {},
   "outputs": [],
   "source": [
    "lrm_summary = lrm.summary"
   ]
  },
  {
   "cell_type": "code",
   "execution_count": 27,
   "id": "33adbbe0-e739-48d8-a67f-fff07406907f",
   "metadata": {},
   "outputs": [
    {
     "name": "stdout",
     "output_type": "stream",
     "text": [
      "+--------------------+-----+--------------------+--------------------+----------+\n",
      "|            features|churn|       rawPrediction|         probability|prediction|\n",
      "+--------------------+-----+--------------------+--------------------+----------+\n",
      "|[100.0,0.0,5.27,5.0]|  0.0|[7.68039716361023...|[0.99953842169732...|       0.0|\n",
      "|[3263.0,1.0,2.77,...|  0.0|[3.79790878847895...|[0.97807392717046...|       0.0|\n",
      "|[3689.95,1.0,5.01...|  0.0|[-0.0852827645067...|[0.47869222186350...|       1.0|\n",
      "|[3825.7,0.0,4.28,...|  0.0|[4.56197343219237...|[0.98966646378940...|       0.0|\n",
      "|[4111.4,0.0,3.93,...|  0.0|[4.77939035707564...|[0.99166887171148...|       0.0|\n",
      "|[4492.44,1.0,6.43...|  0.0|[1.48647065390089...|[0.81554794599693...|       0.0|\n",
      "|[4711.89,0.0,4.97...|  0.0|[5.35606473980586...|[0.99530272666451...|       0.0|\n",
      "|[4762.81,1.0,5.12...|  0.0|[1.07167532017754...|[0.74491538482445...|       0.0|\n",
      "|[4771.65,0.0,3.77...|  1.0|[-0.0689054937107...|[0.48278043919219...|       1.0|\n",
      "|[5002.58,0.0,4.57...|  0.0|[0.66193392459388...|[0.65969468388799...|       0.0|\n",
      "|[5024.52,0.0,8.11...|  1.0|[0.90822911029017...|[0.71263764729683...|       0.0|\n",
      "|[5039.46,0.0,4.08...|  0.0|[4.67677586229450...|[0.99077687885546...|       0.0|\n",
      "|[5192.38,1.0,4.86...|  1.0|[-0.0044993844387...|[0.49887515578796...|       1.0|\n",
      "|[5218.49,0.0,3.8,...|  0.0|[2.37968974929749...|[0.91526537597896...|       0.0|\n",
      "|[5353.97,0.0,6.25...|  0.0|[2.07432316379236...|[0.88838236296113...|       0.0|\n",
      "|[5387.41,1.0,4.17...|  0.0|[4.13462666936242...|[0.98424359804462...|       0.0|\n",
      "|[5387.75,0.0,6.83...|  0.0|[1.70947626368526...|[0.84676834088952...|       0.0|\n",
      "|[5622.5,0.0,6.05,...|  0.0|[4.66908036674188...|[0.99070629074566...|       0.0|\n",
      "|[5695.21,0.0,4.1,...|  0.0|[5.89404759884238...|[0.99725177384042...|       0.0|\n",
      "|[5756.12,0.0,5.9,...|  0.0|[3.52642638334889...|[0.97143039928766...|       0.0|\n",
      "+--------------------+-----+--------------------+--------------------+----------+\n",
      "only showing top 20 rows\n",
      "\n"
     ]
    }
   ],
   "source": [
    "lrm_summary.predictions.show()"
   ]
  },
  {
   "cell_type": "code",
   "execution_count": 28,
   "id": "cc22bc67-f03f-48f4-b932-97f2fb85932a",
   "metadata": {},
   "outputs": [
    {
     "name": "stdout",
     "output_type": "stream",
     "text": [
      "+-------+------------------+-------------------+\n",
      "|summary|             churn|         prediction|\n",
      "+-------+------------------+-------------------+\n",
      "|  count|               667|                667|\n",
      "|   mean|0.1634182908545727|0.12893553223388307|\n",
      "| stddev|0.3700243606477148| 0.3353800771333429|\n",
      "|    min|               0.0|                0.0|\n",
      "|    max|               1.0|                1.0|\n",
      "+-------+------------------+-------------------+\n",
      "\n"
     ]
    }
   ],
   "source": [
    "lrm_summary.predictions.describe().show()"
   ]
  },
  {
   "cell_type": "code",
   "execution_count": 30,
   "id": "da8cf709-6e4e-494e-9b07-9d2a5ad0450b",
   "metadata": {},
   "outputs": [],
   "source": [
    "from pyspark.ml.evaluation import BinaryClassificationEvaluator"
   ]
  },
  {
   "cell_type": "code",
   "execution_count": 31,
   "id": "50eda51d-cfbf-4021-bcf7-9d702d56fc11",
   "metadata": {},
   "outputs": [],
   "source": [
    "pred_labels = lrm.evaluate(test)"
   ]
  },
  {
   "cell_type": "code",
   "execution_count": 33,
   "id": "7d3f4340-9e20-4010-bbea-d159f108e757",
   "metadata": {},
   "outputs": [
    {
     "name": "stdout",
     "output_type": "stream",
     "text": [
      "+--------------------+-----+--------------------+--------------------+----------+\n",
      "|            features|churn|       rawPrediction|         probability|prediction|\n",
      "+--------------------+-----+--------------------+--------------------+----------+\n",
      "|[3676.68,1.0,3.52...|    0|[3.32280060410704...|[0.96520277626050...|       0.0|\n",
      "|[4316.73,1.0,4.79...|    0|[2.51882703498393...|[0.92545117082477...|       0.0|\n",
      "|[4523.91,0.0,3.98...|    0|[4.74425895305274...|[0.9913735552338,...|       0.0|\n",
      "|[4690.57,1.0,5.41...|    0|[3.36151699302179...|[0.96647995669972...|       0.0|\n",
      "|[4863.73,1.0,5.17...|    0|[3.51080721628381...|[0.97099370799721...|       0.0|\n",
      "|[4992.6,0.0,3.85,...|    0|[4.82175711380701...|[0.99201170145350...|       0.0|\n",
      "|[4994.48,0.0,5.02...|    0|[4.08636803116322...|[0.98347744084253...|       0.0|\n",
      "|[5191.08,0.0,6.29...|    0|[4.52210988299157...|[0.98925072904386...|       0.0|\n",
      "|[5200.06,1.0,6.33...|    0|[2.77869927377672...|[0.94151386042336...|       0.0|\n",
      "|[5304.6,0.0,5.29,...|    0|[2.67814892912066...|[0.93572488286293...|       0.0|\n",
      "|[5347.74,1.0,5.62...|    0|[0.75215974748965...|[0.67964911511641...|       0.0|\n",
      "|[5447.16,1.0,4.13...|    0|[2.92349864319230...|[0.94899590903091...|       0.0|\n",
      "|[5515.09,0.0,6.85...|    1|[2.93149427745526...|[0.94938153266098...|       0.0|\n",
      "|[5570.45,0.0,2.23...|    0|[7.07050668376644...|[0.99915091913200...|       0.0|\n",
      "|[5647.92,0.0,5.08...|    0|[4.04278731647682...|[0.98275414769777...|       0.0|\n",
      "|[5720.98,1.0,6.63...|    0|[2.58546329976481...|[0.92992014242307...|       0.0|\n",
      "|[5738.82,0.0,7.66...|    0|[3.65611313505784...|[0.97481779874918...|       0.0|\n",
      "|[5846.65,1.0,6.65...|    0|[1.33603177318043...|[0.79183661054972...|       0.0|\n",
      "|[5914.3,1.0,2.3,9.0]|    0|[4.06950024208458...|[0.98320109955591...|       0.0|\n",
      "|[5977.46,1.0,5.02...|    0|[4.83081424258680...|[0.99208315563685...|       0.0|\n",
      "+--------------------+-----+--------------------+--------------------+----------+\n",
      "only showing top 20 rows\n",
      "\n"
     ]
    }
   ],
   "source": [
    "pred_labels.predictions.show()"
   ]
  },
  {
   "cell_type": "code",
   "execution_count": 35,
   "id": "424036a6-b178-44ad-b103-0a22d81a4c7e",
   "metadata": {},
   "outputs": [],
   "source": [
    "evalu = BinaryClassificationEvaluator(rawPredictionCol=\"prediction\", labelCol=\"churn\")"
   ]
  },
  {
   "cell_type": "code",
   "execution_count": 36,
   "id": "6cbed304-5aeb-415d-8264-9d0630c7ae36",
   "metadata": {},
   "outputs": [],
   "source": [
    "auc = evalu.evaluate(pred_labels.predictions)"
   ]
  },
  {
   "cell_type": "code",
   "execution_count": 37,
   "id": "3cde9e0c-644c-46bd-891a-ebc56d1f618d",
   "metadata": {},
   "outputs": [
    {
     "data": {
      "text/plain": [
       "0.779662093495935"
      ]
     },
     "execution_count": 37,
     "metadata": {},
     "output_type": "execute_result"
    }
   ],
   "source": [
    "auc"
   ]
  },
  {
   "cell_type": "code",
   "execution_count": 45,
   "id": "76548cb9-be4f-4bd5-baea-d7d61725f2c7",
   "metadata": {},
   "outputs": [],
   "source": [
    "customers = spark.read.csv(\"customer_churn.csv\", inferSchema=True, header=True).drop('Churn')"
   ]
  },
  {
   "cell_type": "code",
   "execution_count": 46,
   "id": "c9c8c3b8-f90a-4f08-89e6-0bf28d99719f",
   "metadata": {},
   "outputs": [],
   "source": [
    "final_model = lr.fit(df_final)"
   ]
  },
  {
   "cell_type": "code",
   "execution_count": 47,
   "id": "0de9f90c-4688-4c19-80d4-7ccd8187e273",
   "metadata": {},
   "outputs": [
    {
     "name": "stdout",
     "output_type": "stream",
     "text": [
      "root\n",
      " |-- Names: string (nullable = true)\n",
      " |-- Age: double (nullable = true)\n",
      " |-- Total_Purchase: double (nullable = true)\n",
      " |-- Account_Manager: integer (nullable = true)\n",
      " |-- Years: double (nullable = true)\n",
      " |-- Num_Sites: double (nullable = true)\n",
      " |-- Onboard_date: timestamp (nullable = true)\n",
      " |-- Location: string (nullable = true)\n",
      " |-- Company: string (nullable = true)\n",
      "\n"
     ]
    }
   ],
   "source": [
    "customers.printSchema()"
   ]
  },
  {
   "cell_type": "code",
   "execution_count": 48,
   "id": "7f7532d0-5c6d-4d98-8e6c-9cfb8684ed8a",
   "metadata": {},
   "outputs": [],
   "source": [
    "customers_valid = assembler.transform(customers)"
   ]
  },
  {
   "cell_type": "code",
   "execution_count": 49,
   "id": "b50538ba-a060-4316-b37c-926b064dd360",
   "metadata": {},
   "outputs": [
    {
     "name": "stdout",
     "output_type": "stream",
     "text": [
      "root\n",
      " |-- Names: string (nullable = true)\n",
      " |-- Age: double (nullable = true)\n",
      " |-- Total_Purchase: double (nullable = true)\n",
      " |-- Account_Manager: integer (nullable = true)\n",
      " |-- Years: double (nullable = true)\n",
      " |-- Num_Sites: double (nullable = true)\n",
      " |-- Onboard_date: timestamp (nullable = true)\n",
      " |-- Location: string (nullable = true)\n",
      " |-- Company: string (nullable = true)\n",
      " |-- features: vector (nullable = true)\n",
      "\n"
     ]
    }
   ],
   "source": [
    "customers_valid.printSchema()"
   ]
  },
  {
   "cell_type": "code",
   "execution_count": 50,
   "id": "4d029523-5470-4c21-bc6a-e637f396ebe9",
   "metadata": {},
   "outputs": [],
   "source": [
    "res = final_model.transform(customers_valid)"
   ]
  },
  {
   "cell_type": "code",
   "execution_count": 51,
   "id": "8d5f7caa-1b2a-48c7-b932-dafb4ab64ec5",
   "metadata": {},
   "outputs": [
    {
     "name": "stdout",
     "output_type": "stream",
     "text": [
      "+--------------------+----------+\n",
      "|             Company|prediction|\n",
      "+--------------------+----------+\n",
      "|          Harvey LLC|       0.0|\n",
      "|          Wilson PLC|       1.0|\n",
      "|Miller, Johnson a...|       1.0|\n",
      "|           Smith Inc|       0.0|\n",
      "|          Love-Jones|       0.0|\n",
      "|        Kelly-Warren|       0.0|\n",
      "|   Reynolds-Sheppard|       1.0|\n",
      "|          Singh-Cole|       0.0|\n",
      "|           Lopez PLC|       1.0|\n",
      "|       Reed-Martinez|       1.0|\n",
      "|Briggs, Lamb and ...|       0.0|\n",
      "|    Figueroa-Maynard|       1.0|\n",
      "|     Abbott-Thompson|       1.0|\n",
      "|Smith, Kim and Ma...|       1.0|\n",
      "|Snyder, Lee and M...|       0.0|\n",
      "|      Sanders-Pierce|       1.0|\n",
      "|Andrews, Adams an...|       1.0|\n",
      "|Morgan, Phillips ...|       1.0|\n",
      "|      Villanueva LLC|       0.0|\n",
      "|Berry, Orr and Ca...|       0.0|\n",
      "+--------------------+----------+\n",
      "only showing top 20 rows\n",
      "\n"
     ]
    }
   ],
   "source": [
    "res.select(\"Company\", \"prediction\").show()"
   ]
  },
  {
   "cell_type": "code",
   "execution_count": 41,
   "id": "d9574648-323d-46a2-8677-d4873f08e4b5",
   "metadata": {},
   "outputs": [
    {
     "name": "stdout",
     "output_type": "stream",
     "text": [
      "root\n",
      " |-- features: vector (nullable = true)\n",
      " |-- churn: integer (nullable = true)\n",
      "\n"
     ]
    }
   ],
   "source": []
  },
  {
   "cell_type": "code",
   "execution_count": null,
   "id": "25a20630-8c55-418a-9c4d-00cd8a5d34b2",
   "metadata": {},
   "outputs": [],
   "source": []
  }
 ],
 "metadata": {
  "kernelspec": {
   "display_name": "Python 3 (ipykernel)",
   "language": "python",
   "name": "python3"
  },
  "language_info": {
   "codemirror_mode": {
    "name": "ipython",
    "version": 3
   },
   "file_extension": ".py",
   "mimetype": "text/x-python",
   "name": "python",
   "nbconvert_exporter": "python",
   "pygments_lexer": "ipython3",
   "version": "3.10.16"
  }
 },
 "nbformat": 4,
 "nbformat_minor": 5
}
